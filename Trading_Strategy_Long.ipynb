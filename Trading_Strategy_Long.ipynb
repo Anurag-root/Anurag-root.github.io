{
  "nbformat": 4,
  "nbformat_minor": 0,
  "metadata": {
    "colab": {
      "name": "Trading_Strategy_Long.ipynb",
      "provenance": [],
      "collapsed_sections": [],
      "authorship_tag": "ABX9TyP1NcC7fe8zziVCTWhu1FdE",
      "include_colab_link": true
    },
    "kernelspec": {
      "name": "python3",
      "display_name": "Python 3"
    },
    "language_info": {
      "name": "python"
    }
  },
  "cells": [
    {
      "cell_type": "markdown",
      "metadata": {
        "id": "view-in-github",
        "colab_type": "text"
      },
      "source": [
        "<a href=\"https://colab.research.google.com/github/Anurag-root/Anurag-root.github.io/blob/master/Trading_Strategy_Long.ipynb\" target=\"_parent\"><img src=\"https://colab.research.google.com/assets/colab-badge.svg\" alt=\"Open In Colab\"/></a>"
      ]
    },
    {
      "cell_type": "code",
      "metadata": {
        "id": "Y3gnwK08B-Rs"
      },
      "source": [
        "# Description: this program will give buy and sell indications by following the supertrend and 200 DMA crossover "
      ],
      "execution_count": null,
      "outputs": []
    },
    {
      "cell_type": "code",
      "metadata": {
        "id": "nPcLAhBZCt-j"
      },
      "source": [
        "#importing librairies\n",
        "import numpy as np\n",
        "import pandas as pd\n",
        "import matplotlib.pyplot as plt\n",
        "plt.style.use('fivethirtyeight')\n"
      ],
      "execution_count": null,
      "outputs": []
    },
    {
      "cell_type": "code",
      "metadata": {
        "colab": {
          "base_uri": "https://localhost:8080/"
        },
        "id": "gw5gUy-z_aNN",
        "outputId": "82adedab-c6e5-4e6f-9e76-25210b1dcf7c"
      },
      "source": [
        "pip install pandas_ta"
      ],
      "execution_count": null,
      "outputs": [
        {
          "output_type": "stream",
          "name": "stdout",
          "text": [
            "Collecting pandas_ta\n",
            "  Downloading pandas_ta-0.3.14b.tar.gz (115 kB)\n",
            "\u001b[?25l\r\u001b[K     |██▉                             | 10 kB 20.5 MB/s eta 0:00:01\r\u001b[K     |█████▊                          | 20 kB 23.7 MB/s eta 0:00:01\r\u001b[K     |████████▌                       | 30 kB 26.3 MB/s eta 0:00:01\r\u001b[K     |███████████▍                    | 40 kB 28.1 MB/s eta 0:00:01\r\u001b[K     |██████████████▎                 | 51 kB 29.5 MB/s eta 0:00:01\r\u001b[K     |█████████████████               | 61 kB 29.9 MB/s eta 0:00:01\r\u001b[K     |████████████████████            | 71 kB 31.3 MB/s eta 0:00:01\r\u001b[K     |██████████████████████▊         | 81 kB 32.8 MB/s eta 0:00:01\r\u001b[K     |█████████████████████████▋      | 92 kB 34.6 MB/s eta 0:00:01\r\u001b[K     |████████████████████████████▌   | 102 kB 35.2 MB/s eta 0:00:01\r\u001b[K     |███████████████████████████████▎| 112 kB 35.2 MB/s eta 0:00:01\r\u001b[K     |████████████████████████████████| 115 kB 35.2 MB/s \n",
            "\u001b[?25hRequirement already satisfied: pandas in /usr/local/lib/python3.7/dist-packages (from pandas_ta) (1.1.5)\n",
            "Requirement already satisfied: numpy>=1.15.4 in /usr/local/lib/python3.7/dist-packages (from pandas->pandas_ta) (1.19.5)\n",
            "Requirement already satisfied: python-dateutil>=2.7.3 in /usr/local/lib/python3.7/dist-packages (from pandas->pandas_ta) (2.8.2)\n",
            "Requirement already satisfied: pytz>=2017.2 in /usr/local/lib/python3.7/dist-packages (from pandas->pandas_ta) (2018.9)\n",
            "Requirement already satisfied: six>=1.5 in /usr/local/lib/python3.7/dist-packages (from python-dateutil>=2.7.3->pandas->pandas_ta) (1.15.0)\n",
            "Building wheels for collected packages: pandas-ta\n",
            "  Building wheel for pandas-ta (setup.py) ... \u001b[?25l\u001b[?25hdone\n",
            "  Created wheel for pandas-ta: filename=pandas_ta-0.3.14b0-py3-none-any.whl size=218923 sha256=e6b7683b6f0605218bc4e9191d8cda01f68c5cb07f9756ac2718947c79ac76e8\n",
            "  Stored in directory: /root/.cache/pip/wheels/0b/81/f0/cca85757840e4616a2c6b9fe12569d97d324c27cac60724c58\n",
            "Successfully built pandas-ta\n",
            "Installing collected packages: pandas-ta\n",
            "Successfully installed pandas-ta-0.3.14b0\n"
          ]
        }
      ]
    },
    {
      "cell_type": "code",
      "metadata": {
        "colab": {
          "resources": {
            "http://localhost:8080/nbextensions/google.colab/files.js": {
              "data": "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",
              "ok": true,
              "headers": [
                [
                  "content-type",
                  "application/javascript"
                ]
              ],
              "status": 200,
              "status_text": ""
            }
          },
          "base_uri": "https://localhost:8080/",
          "height": 73
        },
        "id": "NFJzGHe8_ldH",
        "outputId": "249a0c3d-5684-478e-f8d9-44e183fcaa6b"
      },
      "source": [
        "import pandas_ta as ta\n",
        "from google.colab import files\n",
        "uploaded = files.upload()"
      ],
      "execution_count": null,
      "outputs": [
        {
          "output_type": "display_data",
          "data": {
            "text/html": [
              "\n",
              "     <input type=\"file\" id=\"files-59c7a31a-3122-46dd-b62b-4493eb5c9ea2\" name=\"files[]\" multiple disabled\n",
              "        style=\"border:none\" />\n",
              "     <output id=\"result-59c7a31a-3122-46dd-b62b-4493eb5c9ea2\">\n",
              "      Upload widget is only available when the cell has been executed in the\n",
              "      current browser session. Please rerun this cell to enable.\n",
              "      </output>\n",
              "      <script src=\"/nbextensions/google.colab/files.js\"></script> "
            ],
            "text/plain": [
              "<IPython.core.display.HTML object>"
            ]
          },
          "metadata": {}
        },
        {
          "output_type": "stream",
          "name": "stdout",
          "text": [
            "Saving niftytoday.csv to niftytoday.csv\n"
          ]
        }
      ]
    },
    {
      "cell_type": "code",
      "metadata": {
        "id": "TvjOzcGB_t-t"
      },
      "source": [
        "# Store the data \n",
        "df = pd.read_csv('niftytoday.csv')\n",
        "# Show the data\n",
        "# df"
      ],
      "execution_count": null,
      "outputs": []
    },
    {
      "cell_type": "code",
      "metadata": {
        "id": "3V12aBoZMxZc"
      },
      "source": [
        "supertrend = ta.supertrend(high =df['high'], low =df['low'], close = df['close'], length= 7, multiplier = 3)['SUPERT_7_3.0']"
      ],
      "execution_count": null,
      "outputs": []
    },
    {
      "cell_type": "code",
      "metadata": {
        "id": "bJirW41NNeXE"
      },
      "source": [
        "df['sup'] = supertrend"
      ],
      "execution_count": null,
      "outputs": []
    },
    {
      "cell_type": "code",
      "metadata": {
        "id": "zQ7mPNRpXyF4"
      },
      "source": [
        "# visually show figure\n",
        "# plt.figure(figsize=(16,8))\n",
        "# plt.title('close price nifty bank',fontsize=18)\n",
        "# plt.plot(df['close'])\n",
        "# plt.xlabel('Date',fontsize=18)\n",
        "# plt.ylabel('close',fontsize=18)\n",
        "# plt.show"
      ],
      "execution_count": null,
      "outputs": []
    },
    {
      "cell_type": "code",
      "metadata": {
        "id": "vXn1ZUwLZD8O"
      },
      "source": [
        "# create a function to calculate 200 day moving average \n",
        "def DMA (data, period=200 ,column = 'close'):\n",
        "  return data[column].rolling(window= period).mean()"
      ],
      "execution_count": null,
      "outputs": []
    },
    {
      "cell_type": "code",
      "metadata": {
        "id": "k3RAlamXD429"
      },
      "source": [
        "# create a function to calculate 20 day moving average \n",
        "def DMA (data, period=20 ,column = 'close'):\n",
        "  return data[column].rolling(window= period).mean()"
      ],
      "execution_count": null,
      "outputs": []
    },
    {
      "cell_type": "code",
      "metadata": {
        "id": "4IRSdF9pccF8"
      },
      "source": [
        "#  create a new column for dma 200\n",
        "df['DMA200']= DMA(df,200) "
      ],
      "execution_count": null,
      "outputs": []
    },
    {
      "cell_type": "code",
      "metadata": {
        "id": "YPj5VE1YEIJe"
      },
      "source": [
        "# create a new column for dma 20\n",
        "df['DMA20'] = DMA(df,20)"
      ],
      "execution_count": null,
      "outputs": []
    },
    {
      "cell_type": "code",
      "metadata": {
        "id": "pD0hieaI4Uxl"
      },
      "source": [
        "# plt.figure(figsize=(12.2,4.5))\n",
        "# plt.plot(df.close)\n",
        "# plt.plot(df.sup, color='green')\n",
        "# plt.plot(df.DMA200, color='red')\n",
        "# plt.show()"
      ],
      "execution_count": null,
      "outputs": []
    },
    {
      "cell_type": "code",
      "metadata": {
        "id": "4fqu3NpjEZ5N"
      },
      "source": [
        "# plt.figure(figsize=(12.2,4.5))\n",
        "# plt.plot(df.close)\n",
        "\n",
        "# plt.plot(df.DMA20, color='red')\n",
        "# plt.show()"
      ],
      "execution_count": null,
      "outputs": []
    },
    {
      "cell_type": "code",
      "metadata": {
        "id": "6UDA1F8VJ0c2"
      },
      "source": [
        "# Define entries whether its long or not for 200 dma\n",
        "df['Long200'] = (df.sup > df.DMA200) & (df.close > df.sup)\n",
        "df['Down200'] = (df.DMA200 > df.sup) & (df.close < df.DMA200)\n"
      ],
      "execution_count": null,
      "outputs": []
    },
    {
      "cell_type": "code",
      "metadata": {
        "id": "tf434WHwDWjW"
      },
      "source": [
        "# Define entries whether its long or not for 20 dma\n",
        "df['Long20'] = (df.close > df.DMA20) \n",
        "df['Short20'] = (df.DMA20 > df.close) "
      ],
      "execution_count": null,
      "outputs": []
    },
    {
      "cell_type": "code",
      "metadata": {
        "id": "d_CG56mBdTS9"
      },
      "source": [
        "# get buy and sell signal\n",
        "# df['Signal'] = np.where(df['sup'] > df['DMA200'] , 1 , 0)\n",
        "# df['Position'] = df['Signal'].diff()\n",
        "# df['Buy'] = np.where(df['Position'] == 1 ,df['close'] , np.NAN)\n",
        "# df['Sell'] = np.where(df['Position'] == -1 ,df['close'] , np.NAN)"
      ],
      "execution_count": null,
      "outputs": []
    },
    {
      "cell_type": "code",
      "metadata": {
        "id": "QzumcOKzmGj6"
      },
      "source": [
        "# function when to buy and sell for sup and 200dma for banknifty \n",
        "def long_short(signal):\n",
        "  Take =[]\n",
        "  Leave =[]\n",
        "  flag =-1\n",
        "\n",
        "  for i in range (0,len(signal)):\n",
        "    if (signal['sup'][i] > signal['DMA200'][i]) & (signal['sup'][i] < signal['close'][i]) :\n",
        "      Leave.append(np.nan)\n",
        "      if flag != 1:\n",
        "        Take.append(signal['close'][i])\n",
        "        flag = 1\n",
        "      else:\n",
        "        Take.append(np.nan)\n",
        "\n",
        "    elif (signal['sup'][i] < signal['DMA200'][i]) & (signal['close'][i] < signal['DMA200'][i]):\n",
        "      Take.append(np.nan)\n",
        "      if flag != 0:\n",
        "        Leave.append(signal['close'][i])\n",
        "        flag = 0\n",
        "      else:\n",
        "        Leave.append(np.nan)\n",
        "\n",
        "    else:\n",
        "        Take.append(np.nan)\n",
        "        Leave.append(np.nan)\n",
        "\n",
        "\n",
        "  return (Take, Leave)"
      ],
      "execution_count": null,
      "outputs": []
    },
    {
      "cell_type": "code",
      "metadata": {
        "id": "qm7S7ALOdH6U"
      },
      "source": [
        "# calling 200dma function\n",
        "b = long_short(df)\n",
        "df['Buy200'] = b[0]\n",
        "df['Sell200'] = b[1]"
      ],
      "execution_count": null,
      "outputs": []
    },
    {
      "cell_type": "code",
      "metadata": {
        "id": "eD6oPF1Pd0EM"
      },
      "source": [
        "D_Red= df.Sell200.dropna()"
      ],
      "execution_count": null,
      "outputs": []
    },
    {
      "cell_type": "code",
      "metadata": {
        "id": "D79ja-0Zetxb"
      },
      "source": [
        "D_Green = df.Buy200.dropna()"
      ],
      "execution_count": null,
      "outputs": []
    },
    {
      "cell_type": "code",
      "metadata": {
        "id": "J5E5yawbBbYa"
      },
      "source": [
        "# only 20 dma function buy and sell\n",
        "def buy_sell(signal):\n",
        "  Buy =[]\n",
        "  Sell =[]\n",
        "  flag =-1\n",
        "\n",
        "  # 50% candle \n",
        "  open = signal['open']\n",
        "  close = signal['close']\n",
        "  more_than_half = [0] * len(signal)\n",
        "\n",
        "\n",
        "  # \n",
        "\n",
        "  for i in range (0,len(signal)  ): \n",
        "    more_than_half[i] = abs(open[i] - close[i] ) * 0.55 + close[i]\n",
        "    # for Long signal \n",
        "    if ((signal['close'][i] > signal['DMA20'][i]) | (signal['DMA20'][i] < more_than_half[i])):\n",
        "    # if(signal['DMA20'][i] < more_than_half[i]):\n",
        "      Sell.append(np.nan)\n",
        "      if flag != 1:\n",
        "        Buy.append(signal['close'][i])\n",
        "        flag = 1\n",
        "      else:\n",
        "        Buy.append(np.nan)\n",
        "\n",
        "# for Short signal\n",
        "    elif ((signal['close'][i] < signal['DMA20'][i]) | (signal['DMA20'][i] > more_than_half[i])):\n",
        "    # elif (signal['DMA20'][i] > more_than_half[i]):\n",
        "      Buy.append(np.nan)\n",
        "      if flag != 0:\n",
        "        Sell.append(signal['close'][i])\n",
        "        flag = 0\n",
        "      else:\n",
        "        Sell.append(np.nan)\n",
        "\n",
        "# for SL or Sell (in case of reversal)\n",
        "    elif ((more_than_half[i] > signal['DMA20'][i]) & (signal['close'][i+1] < signal['close'][i])):\n",
        "      Buy.append(np.nan)\n",
        "      if flag != 0:\n",
        "        Sell.append(signal['close'][i])\n",
        "        flag = 0\n",
        "      else:\n",
        "        Sell.append(np.nan)\n",
        "\n",
        "# for SL or Buy (in case of reversal)\n",
        "    elif ((more_than_half[i] < signal['DMA20'][i]) & (signal['close'][i+1] > signal['close'][i])):\n",
        "      Sell.append(np.nan)\n",
        "      if flag != 1:\n",
        "        Buy.append(signal['close'][i])\n",
        "        flag = 1\n",
        "      else:\n",
        "        Buy.append(np.nan)\n",
        "    \n",
        "    else:\n",
        "        Buy.append(np.nan)\n",
        "        Sell.append(np.nan)\n",
        "        \n",
        "\n",
        "  return (Buy, Sell)\n"
      ],
      "execution_count": null,
      "outputs": []
    },
    {
      "cell_type": "code",
      "metadata": {
        "id": "X2Vdt2HY9NW9"
      },
      "source": [
        "# calling 20 dma function\n",
        "a = buy_sell(df)\n",
        "df['Buy_Signal_Price'] = a[0]\n",
        "df['Sell_Signal_Price'] = a[1]\n",
        "\n",
        "\n"
      ],
      "execution_count": null,
      "outputs": []
    },
    {
      "cell_type": "code",
      "metadata": {
        "id": "pf4okWOEkPJD"
      },
      "source": [
        "Red = df.Sell_Signal_Price.dropna()"
      ],
      "execution_count": null,
      "outputs": []
    },
    {
      "cell_type": "code",
      "metadata": {
        "id": "DkCfEw5GwvNu"
      },
      "source": [
        "Green = df.Buy_Signal_Price.dropna()"
      ],
      "execution_count": null,
      "outputs": []
    },
    {
      "cell_type": "code",
      "metadata": {
        "id": "eKW0C9QjiPyw"
      },
      "source": [
        "import requests"
      ],
      "execution_count": null,
      "outputs": []
    },
    {
      "cell_type": "code",
      "metadata": {
        "id": "zGa9Bc4Ojf6m"
      },
      "source": [
        "for sell in Red[-1:]:\n",
        "  base_url = 'https://api.telegram.org/bot2049051709:AAGOApTYM_4ZMiSIpt_lvj4QDGrN8_X8MYc/sendMessage?chat_id=-542715306&text= \"{}\" :: @Banknifty (Short Activated by 20DMA)'.format(sell)\n",
        "  requests.get(base_url)\n",
        "  # print(base_url)"
      ],
      "execution_count": null,
      "outputs": []
    },
    {
      "cell_type": "code",
      "metadata": {
        "id": "qhKoryaJECvT"
      },
      "source": [
        "for sell in D_Red[-1:]:\n",
        "  base_url = 'https://api.telegram.org/bot2049051709:AAGOApTYM_4ZMiSIpt_lvj4QDGrN8_X8MYc/sendMessage?chat_id=-542715306&text= \"{}\" :: @Banknifty (Short Activated by 200DMA)'.format(sell)\n",
        "  requests.get(base_url)\n",
        "  # print(base_url)"
      ],
      "execution_count": null,
      "outputs": []
    },
    {
      "cell_type": "code",
      "metadata": {
        "id": "4AfFNn3IEP6K"
      },
      "source": [
        "for buy in D_Green[-1:]:\n",
        "  base_url = 'https://api.telegram.org/bot2049051709:AAGOApTYM_4ZMiSIpt_lvj4QDGrN8_X8MYc/sendMessage?chat_id=-542715306&text= \"{}\" :: @Banknifty (Long Activated by 200DMA)'.format(buy)\n",
        "  requests.get(base_url)\n",
        "  # print(base_url)"
      ],
      "execution_count": null,
      "outputs": []
    },
    {
      "cell_type": "code",
      "metadata": {
        "id": "q8L_1_BkEU92"
      },
      "source": [
        "for buy in Green[-1:]:\n",
        "  base_url = 'https://api.telegram.org/bot2049051709:AAGOApTYM_4ZMiSIpt_lvj4QDGrN8_X8MYc/sendMessage?chat_id=-542715306&text= \"{}\" :: @Banknifty (Long Activated by 20DMA)'.format(buy)\n",
        "  requests.get(base_url)\n",
        "  # print(base_url)"
      ],
      "execution_count": null,
      "outputs": []
    },
    {
      "cell_type": "code",
      "metadata": {
        "id": "Yfu9Xq1XfXJl"
      },
      "source": [
        "# Visually Show the close price with the DMA & Supertrend Crossover's Buy And Sell Signals\n",
        "plt.figure(figsize=(18,9))\n",
        "plt.title('Close Price History w/ Buy & Sell Signals',fontsize=18)\n",
        "plt.plot(df['close'],alpha= 0.3, label = 'Close')\n",
        "\n",
        "plt.scatter(df.index,df['Buy_Signal_Price'],alpha=1,label='Buy Signal',marker='^',color='green')\n",
        "plt.scatter(df.index,df['Sell_Signal_Price'],alpha=1,label='Sell Signal',marker='v',color='red')\n",
        "\n",
        "plt.scatter(df.index,df['Buy200'],alpha=1,label='Buy Signal',marker='o',color='blue')\n",
        "plt.scatter(df.index,df['Sell200'],alpha=1,label='Sell Signal',marker='o',color='black')\n",
        "\n",
        "plt.ylabel('Close Price',fontsize=18)\n",
        "plt.show()"
      ],
      "execution_count": null,
      "outputs": []
    },
    {
      "cell_type": "code",
      "metadata": {
        "id": "btR-VhPkIi7T"
      },
      "source": [
        "# import plotly.graph_objects as go\n",
        "# df = df.set_index(pd.DatetimeIndex(df['timestamp'].values))"
      ],
      "execution_count": null,
      "outputs": []
    },
    {
      "cell_type": "code",
      "metadata": {
        "id": "H78YxS_1I3YJ"
      },
      "source": [
        "# create candlestick\n",
        "# figure = go.Figure(data=[go.Candlestick(x = df.index,open=df['open'],high=df['high'],low= df['low'],close=df['close'],increasing_line_color='green',decreasing_line_color='red')])\n",
        "\n",
        "# figure.show()"
      ],
      "execution_count": null,
      "outputs": []
    },
    {
      "cell_type": "code",
      "metadata": {
        "id": "VTlK_0wz7q7l"
      },
      "source": [
        ""
      ],
      "execution_count": null,
      "outputs": []
    }
  ]
}